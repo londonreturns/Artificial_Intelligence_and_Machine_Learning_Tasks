{
 "cells": [
  {
   "cell_type": "markdown",
   "id": "43d6f515-755d-4909-a113-558911fe7a15",
   "metadata": {},
   "source": [
    "# 4.1 Exercise on Functions:"
   ]
  },
  {
   "cell_type": "markdown",
   "id": "153b50f3-97b3-42cc-b139-38239acd954a",
   "metadata": {},
   "source": [
    "## Task - 1:\r",
    "Create a Python program that converts between different units of measurement.\r\n",
    "• The program should:\r\n",
    "1. Prompt the user to choose the type of conversion (e.g., length, weight, volume).\r\n",
    "2. Ask the user to input the value to be converted.\r\n",
    "3. Perform the conversion and display the result.\r\n",
    "4. Handle potential errors, such as invalid input or unsupported conversion types.\r\n",
    "• Requirements:\r\n",
    "1. Functions: Define at least one function to perform the conversion.\r\n",
    "2. Error Handling: Use try-except blocks to handle invalid input (e.g., non-numeric values).\r\n",
    "3. User Input: Prompt the user to select the conversion type and input the value.\r\n",
    "4. Docstrings: Include a docstring in your function to describe its purpose, parameters, and\r\n",
    "return value.\r\n",
    "• Conversion Options:\r\n",
    "1. Length:\r\n",
    "– Convert meters (m) to feet (ft).\r\n",
    "– Convert feet (ft) to meters (m).\r\n",
    "2. Weight:\r\n",
    "– Convert kilograms (kg) to pounds (lbs).\r\n",
    "– Convert pounds (lbs) to kilograms (kg).\r\n",
    "3. Volume:\r\n",
    "– Convert liters (L) to gallons (gal).\r\n",
    "– Convert gallons (gal) to liters (L).."
   ]
  },
  {
   "cell_type": "code",
   "execution_count": 94,
   "id": "6806b52c-d7f5-4082-bf2c-3ac4cdc89bc2",
   "metadata": {},
   "outputs": [
    {
     "name": "stdin",
     "output_type": "stream",
     "text": [
      "Choose type of conversion (l, w, v) l\n",
      "Enter input 2\n",
      "Convert meters to feet (1) Convert feet to meters (2) 232\n"
     ]
    },
    {
     "name": "stdout",
     "output_type": "stream",
     "text": [
      "Please enter 1 or 2\n"
     ]
    }
   ],
   "source": [
    "def check(choice):\n",
    "    if choice not in [1, 2]:\n",
    "        raise Exception(\"Please enter 1 or 2\")\n",
    "\n",
    "\n",
    "def conversion():\n",
    "    try:\n",
    "        conversion_type = input(\"Choose type of conversion (l, w, v)\")\n",
    "\n",
    "        user_input = float(input(\"Enter input\"))\n",
    "\n",
    "        output = 0\n",
    "\n",
    "        if conversion_type == \"l\":\n",
    "            choice = int(input(\"Convert meters to feet (1) Convert feet to meters (2)\"))\n",
    "            check(choice)\n",
    "            if choice == 1:\n",
    "                output = user_input * 3.28\n",
    "            else:\n",
    "                output = user_input / 3.28\n",
    "        elif conversion_type == \"w\":\n",
    "            choice = int(input(\"Convert kg to pounds (1) Convert pounds to kg (2)\"))\n",
    "            check(choice)\n",
    "            if choice == 1:\n",
    "                output = user_input * 2.2\n",
    "            else:\n",
    "                output = user_input / 2.2\n",
    "        elif conversion_type == \"v\":\n",
    "            choice = int(input(\"Convert litres to gallons (1) Convert gallons to litres (2)\"))\n",
    "            check(choice)\n",
    "            if choice == 1:\n",
    "                output = user_input * 0.264\n",
    "            else:\n",
    "                output = user_input / 0.264\n",
    "        else:\n",
    "            raise Exception(\"Please enter l, w, or v\")\n",
    "        print(f\"Output is {output}\")\n",
    "    except Exception as e:\n",
    "        print(e)\n",
    "\n",
    "\n",
    "conversion()"
   ]
  },
  {
   "cell_type": "markdown",
   "id": "dda6f483-86c5-4e4f-9a0c-615dbf6494fc",
   "metadata": {},
   "source": [
    "## Task - 2:\r\n",
    "Create a Python program that performs various mathematical operations on a list of numbers.\r\n",
    "• The Program should:\r\n",
    "1. Prompt the user to choose an operation (e.g., find the sum, average, maximum, or minimum\r\n",
    "of the numbers).\r\n",
    "2. Ask the user to input a list of numbers (separated by spacan Giri\r\n",
    "\r\n",
    "3. Perform the selected operation and display the result.\r\n",
    "4. Handle potential errors, such as invalid input or empty lists.\r\n",
    "• Requirements:\r\n",
    "\r\n",
    "1. Functions: Define at least one function for each operation (sum, average, maximum, mini-\r\n",
    "mum).\r\n",
    "\r\n",
    "2. Error Handling: Use try-except blocks to handle invalid input (e.g., non-numeric values or\r\n",
    "empty lists).\r\n",
    "3. User Input: Prompt the user to select the operation and input the list of numbers.\r\n",
    "4. Docstrings: Include a docstring in each function to describe its purpose, parameters, and\r\n",
    "return value."
   ]
  },
  {
   "cell_type": "code",
   "execution_count": 95,
   "id": "d1058d16-15bb-4031-9aae-76a350ad0d71",
   "metadata": {},
   "outputs": [
    {
     "name": "stdin",
     "output_type": "stream",
     "text": [
      "Enter numbers serperated by spaces 2 4 43 6 7 3\n"
     ]
    },
    {
     "name": "stdout",
     "output_type": "stream",
     "text": [
      "Sum is 65.0\n",
      "Average is 10.833333333333334\n",
      "Min is 2.0\n",
      "Max is 43.0\n"
     ]
    }
   ],
   "source": [
    "def is_number(s):\n",
    "    try:\n",
    "        float(s)\n",
    "        return True\n",
    "    except ValueError:\n",
    "        return False\n",
    "\n",
    "\n",
    "def single_value_check(array):\n",
    "    if len(array) == 1:\n",
    "        return True\n",
    "    return False\n",
    "\n",
    "\n",
    "def sum(array):\n",
    "    if single_value_check(array):\n",
    "        return array[0]\n",
    "\n",
    "    sum = 0\n",
    "    for val in array:\n",
    "        sum += val\n",
    "    return sum\n",
    "\n",
    "\n",
    "def average(array):\n",
    "    if single_value_check(array):\n",
    "        return array[0]\n",
    "\n",
    "    return sum(array) / len(array)\n",
    "\n",
    "\n",
    "def minimum(array):\n",
    "    if single_value_check(array):\n",
    "        return array[0]\n",
    "\n",
    "    min = array[0]\n",
    "    for i in range(1, len(array)):\n",
    "        if min > array[i]:\n",
    "            min = array[i]\n",
    "    return min\n",
    "\n",
    "\n",
    "def maximum(array):\n",
    "    if single_value_check(array):\n",
    "        return array[0]\n",
    "\n",
    "    max = array[0]\n",
    "    for i in range(1, len(array)):\n",
    "        if max < array[i]:\n",
    "            max = array[i]\n",
    "    return max\n",
    "\n",
    "\n",
    "try:\n",
    "    nums_string = input(\"Enter numbers serperated by spaces\")\n",
    "    nums = nums_string.strip().split(\" \")\n",
    "\n",
    "    array = []\n",
    "\n",
    "    if len(nums) == 1:\n",
    "        raise ValueError(\"Empty array\")\n",
    "    for num in nums:\n",
    "        if not is_number(num):\n",
    "            raise ValueError(\"Invalid number\")\n",
    "        else:\n",
    "            array.append(float(num))\n",
    "\n",
    "    print(f\"Sum is {sum(array)}\")\n",
    "    print(f\"Average is {average(array)}\")\n",
    "    print(f\"Min is {min(array)}\")\n",
    "    print(f\"Max is {max(array)}\")\n",
    "except Exception as e:\n",
    "    print(e)"
   ]
  },
  {
   "cell_type": "markdown",
   "id": "278dbbdc-c03e-48d4-924e-da95a8bde444",
   "metadata": {},
   "source": [
    "# 4.2 Exercise on List Manipulation:"
   ]
  },
  {
   "cell_type": "markdown",
   "id": "98d37153-de67-4f50-a4e4-c254c84ec043",
   "metadata": {},
   "source": [
    "## 1. Extract Every Other Element:\r\n",
    "Write a Python function that extracts every other element from a list, starting from the first element.\r\n",
    "• Requirements:\r\n",
    "– Define a function extract every other(lst) that takes a list lst as input and returns a\r\n",
    "new list containing every other element from the original list.\r\n",
    "– Example: For the input [1, 2, 3, 4, 5, 6], the output should be [1, 3, 5]."
   ]
  },
  {
   "cell_type": "code",
   "execution_count": 96,
   "id": "e2f60c08-41ce-4551-b94e-5ff10de92208",
   "metadata": {},
   "outputs": [
    {
     "data": {
      "text/plain": [
       "[3, 5]"
      ]
     },
     "execution_count": 96,
     "metadata": {},
     "output_type": "execute_result"
    }
   ],
   "source": [
    "def extract(array):\n",
    "    new_array = []\n",
    "    for i in range(len(array)):\n",
    "        if i % 2 == 1:\n",
    "            new_array.append(array[i])\n",
    "    return new_array\n",
    "\n",
    "\n",
    "array = [2, 3, 4, 5, 6]\n",
    "extract(array)"
   ]
  },
  {
   "cell_type": "markdown",
   "id": "9326abf8-eff2-4db0-841f-ba7637a6cdfb",
   "metadata": {},
   "source": [
    "## 2. Slice a Sublist:\r\n",
    "Write a Python function that returns a sublist from a given list, starting from a specified index and\r\n",
    "ending at another specified index."
   ]
  },
  {
   "cell_type": "code",
   "execution_count": 97,
   "id": "d6b770c1-6ed0-4e8d-8a7d-941bdead7c64",
   "metadata": {},
   "outputs": [
    {
     "name": "stdout",
     "output_type": "stream",
     "text": [
      "[3, 4, 5]\n"
     ]
    }
   ],
   "source": [
    "def get_sublist(array, start, end):\n",
    "    return array[start:end+1]\n",
    "\n",
    "\n",
    "start = 2\n",
    "end = 4\n",
    "print(f\"{get_sublist([1, 2, 3, 4, 5, 6], start, end)}\")"
   ]
  },
  {
   "cell_type": "markdown",
   "id": "a7afd6ad-4a69-42ac-b84f-cf295b4a0400",
   "metadata": {},
   "source": [
    "## 3. Reverse a List Using Slicing:\r\n",
    "Write a Python function that reverses a list using slicing.\r\n",
    "• Requirements:\r\n",
    "– Define a function reverse list(lst) that takes a list lst and returns a reversed list using\r\n",
    "slicing.\r\n",
    "– Example: For the input [1, 2, 3, 4, 5], the output should be [5, 4, 3, 2, 1]."
   ]
  },
  {
   "cell_type": "code",
   "execution_count": 98,
   "id": "36acf723-127e-47bc-9446-23f767063cd9",
   "metadata": {},
   "outputs": [
    {
     "name": "stdout",
     "output_type": "stream",
     "text": [
      "[4, 3, 2, 1]\n"
     ]
    }
   ],
   "source": [
    "def reverse_list(array):\n",
    "    return array[::-1]\n",
    "\n",
    "\n",
    "print(f\"{reverse_list([1, 2, 3, 4])}\")"
   ]
  },
  {
   "cell_type": "markdown",
   "id": "a02592f7-41e7-47c7-be45-61eeefa7f572",
   "metadata": {},
   "source": [
    "## 4. Remove the First and Last Elements:\r\n",
    "Write a Python function that removes the first and last elements of a list and returns the resulting\r\n",
    "sublist.\r\n",
    "• Requirements:\r\n",
    "– Define a function remove first last(lst) that takes a list lst and returns a sublist without\r\n",
    "the first and last elements using slicing.\r\n",
    "– Example: For the input [1, 2, 3, 4, 5], the output should be [2, 3, 4]."
   ]
  },
  {
   "cell_type": "code",
   "execution_count": 99,
   "id": "2ab237a0-485d-4177-ac97-b02b0278c40f",
   "metadata": {},
   "outputs": [
    {
     "name": "stdout",
     "output_type": "stream",
     "text": [
      "[2, 3]\n"
     ]
    }
   ],
   "source": [
    "def remove_first_last(array):\n",
    "    return array[1:-1]\n",
    "\n",
    "\n",
    "print(f\"{remove_first_last([1, 2, 3, 4])}\")"
   ]
  },
  {
   "cell_type": "markdown",
   "id": "cfac82de-0e44-482a-b156-79feab7aa5f2",
   "metadata": {},
   "source": [
    "## 5. Get the First n Elements:\r\n",
    "Write a Python function that extracts the first n elements from a list.\r\n",
    "• Requirements:\r\n",
    "– Define a function get first n(lst, n) that takes a list lst and an integer n as input and\r\n",
    "returns the first n elements of the list using slicing.\r\n",
    "– Example: For the input [1, 2, 3, 4, 5] with n=3, the output should be [1, 2, 3]."
   ]
  },
  {
   "cell_type": "code",
   "execution_count": 100,
   "id": "9f8ee3f1-0886-4dc4-bd5c-adeda401dffe",
   "metadata": {},
   "outputs": [
    {
     "name": "stdout",
     "output_type": "stream",
     "text": [
      "[1, 2]\n"
     ]
    }
   ],
   "source": [
    "def get_first_n(array, n):\n",
    "    return array[:n]\n",
    "\n",
    "\n",
    "print(f\"{get_first_n([1, 2, 3, 4], 2)}\")"
   ]
  },
  {
   "cell_type": "markdown",
   "id": "604b8601-a5bf-4c23-9937-cd190039f4cb",
   "metadata": {},
   "source": [
    "## 6. Extract Elements from the End:\r\n",
    "Write a Python function that extracts the last n elements of a list using slicing.\r\n",
    "• Requirements:\r\n",
    "– Define a function get last n(lst, n) that takes a list lst and an integer n as input and\r\n",
    "returns the last n elements of the list.\r\n",
    "– Example: For the input [1, 2, 3, 4, 5] with n=2, the output should be [4, 5]."
   ]
  },
  {
   "cell_type": "code",
   "execution_count": 101,
   "id": "54589ca7-8184-429f-b2b8-1d581f8714c2",
   "metadata": {},
   "outputs": [
    {
     "name": "stdout",
     "output_type": "stream",
     "text": [
      "[3, 4]\n"
     ]
    }
   ],
   "source": [
    "def get_last_n(array, n):\n",
    "    return array[n:]\n",
    "\n",
    "\n",
    "print(f\"{get_last_n([1, 2, 3, 4], 2)}\")"
   ]
  },
  {
   "cell_type": "markdown",
   "id": "cb408fce-1e50-456a-b530-2ec7aa94b1b7",
   "metadata": {},
   "source": [
    "## 7. Extract Elements in Reverse Order:\r\n",
    "Write a Python function that extracts a list of elements in reverse order starting from the second-to-last\r\n",
    "element and skipping one element in between.\r\n",
    "• Requirements:\r\n",
    "– Define a function reverse skip(lst) that takes a list lst and returns a new list containing\r\n",
    "every second element starting from the second-to-last, moving backward.\r\n",
    "– Example: For the input [1, 2, 3, 4, 5, 6], the output should be [5, 3, 1]."
   ]
  },
  {
   "cell_type": "code",
   "execution_count": 102,
   "id": "600c56eb-0e89-47f9-adad-c8a5ff1e4491",
   "metadata": {},
   "outputs": [
    {
     "name": "stdout",
     "output_type": "stream",
     "text": [
      "[5, 3, 1]\n"
     ]
    }
   ],
   "source": [
    "def reverse_skip(array):\n",
    "    reversed_array = reverse_list(array)\n",
    "    extracted_reversed_array = extract(reversed_array)\n",
    "    return extracted_reversed_array\n",
    "\n",
    "\n",
    "print(f\"{reverse_skip([1, 2, 3, 4, 5, 6])}\")"
   ]
  },
  {
   "cell_type": "markdown",
   "id": "90e62201-388b-4d34-bbe7-3b8cb04395ce",
   "metadata": {},
   "source": [
    "# 4.3 Exercise on Nested List:"
   ]
  },
  {
   "cell_type": "markdown",
   "id": "cc4fae6f-fa00-483a-ae54-31727840b5f3",
   "metadata": {},
   "source": [
    "## 1. Flatten a Nested List:\r\n",
    "Write a Python function that takes a nested list and flattens it into a single list, where all the elements\r\n",
    "are in a single dimension.\r\n",
    "• Requirements:\r\n",
    "– Define a function flatten(lst) that takes a nested list lst and returns a flattened version\r\n",
    "of the list.\r\n",
    "– Example: For the input [[1, 2], [3, 4], [5]], the output should be [1, 2, 3, 4, 5]."
   ]
  },
  {
   "cell_type": "code",
   "execution_count": 103,
   "id": "d3155fae-865d-4fa5-b4b1-c19f3eb61beb",
   "metadata": {},
   "outputs": [
    {
     "name": "stdout",
     "output_type": "stream",
     "text": [
      "[2, 3, 4, 5]\n"
     ]
    }
   ],
   "source": [
    "def flatten(array):\n",
    "    new_array = []\n",
    "    for i in array:\n",
    "        for j in i:\n",
    "            new_array.append(j)\n",
    "    return new_array\n",
    "\n",
    "\n",
    "print(f\"{flatten([[2, 3], [4, 5]])}\")"
   ]
  },
  {
   "cell_type": "markdown",
   "id": "90b7ec3c-3ea3-4099-bbe1-2c587bacdfcd",
   "metadata": {},
   "source": [
    "## 2. Accessing Nested List Elements:\r\n",
    "Write a Python function that extracts a specific element from a nested list given its indices.\r\n",
    "• Requirements:\r\n",
    "– Define a function access nested element(lst, indices) that takes a nested list lst and\r\n",
    "a list of indices indices, and returns the element at that position.\r\n",
    "– Example: For the input lst = [[1, 2, 3], [4, 5, 6], [7, 8, 9]] with indices = [1,\r\n",
    "2], the output should be 6."
   ]
  },
  {
   "cell_type": "code",
   "execution_count": 104,
   "id": "91660576-dbd2-4b40-98d7-a11f96d6eca6",
   "metadata": {},
   "outputs": [
    {
     "name": "stdout",
     "output_type": "stream",
     "text": [
      "6\n"
     ]
    }
   ],
   "source": [
    "def access_nested_elements(array, indices):\n",
    "    row, col = indices\n",
    "    return array[row][col]\n",
    "\n",
    "\n",
    "print(f\"{access_nested_elements([[1, 2, 3], [4, 5, 6], [7, 8, 9]], [1, 2])}\")"
   ]
  },
  {
   "cell_type": "markdown",
   "id": "78861c30-aca6-430b-b31e-801d03b5720a",
   "metadata": {},
   "source": [
    "## 3. Sum of All Elements in a Nested List:\r\n",
    "Write a Python function that calculates the sum of all the numbers in a nested list (regardless of depth).\r\n",
    "• Requirements:\r\n",
    "– Define a function sum nested(lst) that takes a nested list lst and returns the sum of all\r\n",
    "the elements.\r\n",
    "– Example: For the input [[1, 2], [3, [4, 5]], 6], the output should be 21."
   ]
  },
  {
   "cell_type": "code",
   "execution_count": 105,
   "id": "4ad42bf3-9eeb-4b9a-acf8-985d7a07d303",
   "metadata": {},
   "outputs": [
    {
     "name": "stdout",
     "output_type": "stream",
     "text": [
      "21\n"
     ]
    }
   ],
   "source": [
    "def sum_nested(array):\n",
    "    sum = 0\n",
    "    for i in array:\n",
    "        if type(i) == list:\n",
    "            sum += sum_nested(i)\n",
    "        else:\n",
    "            sum += i\n",
    "    return sum\n",
    "\n",
    "\n",
    "print(f\"{sum_nested([[1, 2], [3, [4, 5]], 6])}\")"
   ]
  },
  {
   "cell_type": "markdown",
   "id": "1f2e48df-bb30-4b59-bfde-1be4eac9c43c",
   "metadata": {},
   "source": [
    "## 4. Remove Specific Element from a Nested List:\r\n",
    "Write a Python function that removes all occurrences of a specific element from a nested list.\r\n",
    "• Requirements:\r\n",
    "– Define a function remove element(lst, elem) that removes elem from lst and returns the\r\n",
    "modified list.\r\n",
    "– Example: For the input lst = [[1, 2], [3, 2], [4, 5]] and elem = 2, the output should\r\n",
    "be [[1], [3], [4, 5]]."
   ]
  },
  {
   "cell_type": "code",
   "execution_count": 106,
   "id": "c97c481e-9184-4eb1-b72f-f699ac61ee71",
   "metadata": {},
   "outputs": [
    {
     "name": "stdout",
     "output_type": "stream",
     "text": [
      "[[1], [3], [4, 5]]\n"
     ]
    }
   ],
   "source": [
    "def remove_element(array, element):\n",
    "    for i in array:\n",
    "        for j in i:\n",
    "            if j == element:\n",
    "                i.remove(element)\n",
    "    return array\n",
    "\n",
    "\n",
    "print(f\"{remove_element([[1, 2], [3, 2], [4, 5]], 2)}\")"
   ]
  },
  {
   "cell_type": "markdown",
   "id": "71ca8cda-8e12-4825-86c0-ebb2e9250b10",
   "metadata": {},
   "source": [
    "## 5. Find the Maximum Element in a Nested List:\r\n",
    "Write a Python function that finds the maximum element in a nested list (regardless of depth).\r\n",
    "• Requirements:\r\n",
    "– Define a function find max(lst) that takes a nested list lst and returns the maximum\r\n",
    "element.\r\n",
    "– Example: For the input [[1, 2], [3, [4, 5]], 6], the output should be 6."
   ]
  },
  {
   "cell_type": "code",
   "execution_count": 107,
   "id": "f1424c54-642d-4e40-9415-0a4aa933192e",
   "metadata": {},
   "outputs": [
    {
     "data": {
      "text/plain": [
       "6"
      ]
     },
     "execution_count": 107,
     "metadata": {},
     "output_type": "execute_result"
    }
   ],
   "source": [
    "def find_max(array):\n",
    "    if len(array) == 1:\n",
    "        return array[0]\n",
    "\n",
    "    for elements in array:\n",
    "        if type(elements) == list:\n",
    "            find_max(elements)\n",
    "        else:\n",
    "            max = float('-inf')\n",
    "            if elements > max:\n",
    "                max = elements\n",
    "    return max\n",
    "\n",
    "\n",
    "find_max([[1, 2], [3, [4, 5]], 6])"
   ]
  },
  {
   "cell_type": "markdown",
   "id": "165c78c3-f6c4-484c-90a7-f05b96d8ec41",
   "metadata": {},
   "source": [
    "## 6. Count Occurrences of an Element in a Nested List:\r\n",
    "Write a Python function that counts how many times a specific element appears in a nested list.\r\n",
    "• Requirements:\r\n",
    "– Define a function count occurrences(lst, elem) that counts the occurrences of elem in\r\n",
    "the nested list lst.\r\n",
    "– Example: For the input lst = [[1, 2], [2, 3], [2, 4]] and elem = 2, the output should\r\n",
    "be 3."
   ]
  },
  {
   "cell_type": "code",
   "execution_count": 108,
   "id": "40157cef-7e00-4303-80d4-501edec25c37",
   "metadata": {},
   "outputs": [
    {
     "name": "stdout",
     "output_type": "stream",
     "text": [
      "2\n"
     ]
    }
   ],
   "source": [
    "def count_occurances(array, element):\n",
    "    count = 0\n",
    "    for i in array:\n",
    "        for j in i:\n",
    "            if j == element:\n",
    "                count += 1\n",
    "    return count\n",
    "\n",
    "\n",
    "print(f\"{count_occurances([[1, 2], [3, 2], [4, 5]], 2)}\")"
   ]
  },
  {
   "cell_type": "markdown",
   "id": "ffba25e6-354e-4d43-b4af-a7175dd8290e",
   "metadata": {},
   "source": [
    "## 7. Flatten a List of Lists of Lists:\r\n",
    "Write a Python function that flattens a list of lists of lists into a single list, regardless of the depth.\r\n",
    "• Requirements:\r\n",
    "– Define a function deep flatten(lst) that takes a deeply nested list lst and returns a single\r\n",
    "flattened list.\r\n",
    "– Example: For the input [[[1, 2], [3, 4]], [[5, 6], [7, 8]]], the output should be\r\n",
    "[1, 2, 3, 4, 5, 6, 7, 8]."
   ]
  },
  {
   "cell_type": "code",
   "execution_count": 109,
   "id": "f432e418-0879-4706-9c6e-6fd87e23f2f8",
   "metadata": {},
   "outputs": [
    {
     "name": "stdout",
     "output_type": "stream",
     "text": [
      "[1, 2, 3, 4, 5, 6, 7, 8]\n"
     ]
    }
   ],
   "source": [
    "def flatten_3(array):\n",
    "    new_array = []\n",
    "    for i in array:\n",
    "        for j in i:\n",
    "            for k in j:\n",
    "                new_array.append(k)\n",
    "    return new_array\n",
    "\n",
    "\n",
    "print(f\"{flatten_3([[[1, 2], [3, 4]], [[5, 6], [7, 8]]])}\")"
   ]
  },
  {
   "cell_type": "markdown",
   "id": "20e0693f-0a2a-4780-b778-6b06238c9912",
   "metadata": {},
   "source": [
    "## 8. Nested List Average:\r\n",
    "Write a Python function that calculates the average of all elements in a nested list.\r\n",
    "• Requirements:\r\n",
    "– Define a function average nested(lst) that takes a nested list lst and returns the average\r\n",
    "of all the elements.\r\n",
    "– Example: For the input [[1, 2], [3, 4], [5, 6]], the output should be 3.5."
   ]
  },
  {
   "cell_type": "code",
   "execution_count": 110,
   "id": "cce6dd76-fe6a-49c9-b0bb-f0dc4021ce96",
   "metadata": {},
   "outputs": [
    {
     "name": "stdout",
     "output_type": "stream",
     "text": [
      "3.5\n"
     ]
    }
   ],
   "source": [
    "def nested_average(array):\n",
    "    sum, count = 0, 0\n",
    "    for i in array:\n",
    "        for j in i:\n",
    "            sum += j\n",
    "            count += 1\n",
    "    return sum / count\n",
    "\n",
    "\n",
    "print(f\"{nested_average([[1, 2], [3, 4], [5, 6]])}\")"
   ]
  },
  {
   "cell_type": "markdown",
   "id": "9bf95db2-37ce-4039-ba7a-60247e71b9b0",
   "metadata": {},
   "source": [
    "# 10 To - Do - NumPy\r\n",
    "Please complete all the problems listed below:"
   ]
  },
  {
   "cell_type": "markdown",
   "id": "fc531c78-a5b8-412c-98ab-151338abfcf3",
   "metadata": {},
   "source": [
    "## 10.1 Basic Vector and Matrix Operation with Numpy."
   ]
  },
  {
   "cell_type": "markdown",
   "id": "cc8472ad-16c2-4893-8056-40d4b8d0c55d",
   "metadata": {},
   "source": [
    "### Problem - 1: Array Creation:\r\n",
    "Complete the following Tasks:\r\n",
    "1. Initialize an empty array with size 2X2.\r\n",
    "2. Initialize an all one array with size 4X2.\r\n",
    "3. Return a new array of given shape and type, filled with fill value.{Hint: np.full}\r\n",
    "4. Return a new array of zeros with same shape and type as a given array.{Hint: np.zeros like}\r\n",
    "5. Return a new array of ones with same shape and type as a given array.{Hint: np.ones like}\r\n",
    "6. For an existing list new_list = [1,2,3,4] convert to an numpy array.{Hint: np.array()}"
   ]
  },
  {
   "cell_type": "code",
   "execution_count": 111,
   "id": "dfff9185-e76c-4b9a-a29c-b1c0956401de",
   "metadata": {},
   "outputs": [],
   "source": [
    "import numpy as np"
   ]
  },
  {
   "cell_type": "code",
   "execution_count": 112,
   "id": "98a6b924-8d99-4d8f-91a7-b423018e4f87",
   "metadata": {},
   "outputs": [
    {
     "data": {
      "text/plain": [
       "array([[0., 0.],\n",
       "       [0., 0.]])"
      ]
     },
     "execution_count": 112,
     "metadata": {},
     "output_type": "execute_result"
    }
   ],
   "source": [
    "empty_array = np.zeros((2, 2))\n",
    "empty_array"
   ]
  },
  {
   "cell_type": "code",
   "execution_count": 113,
   "id": "dbb2a5ff-b350-49f0-a31e-9bcb26f9074e",
   "metadata": {},
   "outputs": [
    {
     "data": {
      "text/plain": [
       "array([[1., 1.],\n",
       "       [1., 1.],\n",
       "       [1., 1.],\n",
       "       [1., 1.]])"
      ]
     },
     "execution_count": 113,
     "metadata": {},
     "output_type": "execute_result"
    }
   ],
   "source": [
    "empty_array = np.ones((4, 2))\n",
    "empty_array"
   ]
  },
  {
   "cell_type": "code",
   "execution_count": 114,
   "id": "34347f05-1ee5-4ae6-87d6-e1ca59fbaeae",
   "metadata": {},
   "outputs": [
    {
     "data": {
      "text/plain": [
       "array([[42, 42],\n",
       "       [42, 42]])"
      ]
     },
     "execution_count": 114,
     "metadata": {},
     "output_type": "execute_result"
    }
   ],
   "source": [
    "fill_array = np.full((2, 2), 42)\n",
    "fill_array"
   ]
  },
  {
   "cell_type": "code",
   "execution_count": 115,
   "id": "ccb19eed-e9a8-4077-aed8-a3d366cab68b",
   "metadata": {},
   "outputs": [
    {
     "data": {
      "text/plain": [
       "array([[0., 0.],\n",
       "       [0., 0.],\n",
       "       [0., 0.],\n",
       "       [0., 0.]])"
      ]
     },
     "execution_count": 115,
     "metadata": {},
     "output_type": "execute_result"
    }
   ],
   "source": [
    "new_array = np.zeros_like(empty_array)\n",
    "new_array"
   ]
  },
  {
   "cell_type": "code",
   "execution_count": 116,
   "id": "a4e5cd6e-f9d4-4362-982c-6b1f2cde1107",
   "metadata": {},
   "outputs": [
    {
     "data": {
      "text/plain": [
       "array([[1., 1.],\n",
       "       [1., 1.],\n",
       "       [1., 1.],\n",
       "       [1., 1.]])"
      ]
     },
     "execution_count": 116,
     "metadata": {},
     "output_type": "execute_result"
    }
   ],
   "source": [
    "new_array = np.ones_like(empty_array)\n",
    "new_array"
   ]
  },
  {
   "cell_type": "code",
   "execution_count": 117,
   "id": "aecb32b7-6745-4124-b0c1-dd6177aacdb0",
   "metadata": {},
   "outputs": [
    {
     "data": {
      "text/plain": [
       "array([1, 2, 3, 4])"
      ]
     },
     "execution_count": 117,
     "metadata": {},
     "output_type": "execute_result"
    }
   ],
   "source": [
    "new_list = [1, 2, 3, 4]\n",
    "array = np.array(new_list)\n",
    "array"
   ]
  },
  {
   "cell_type": "markdown",
   "id": "d165140a-8a82-4bca-81d5-3cf548b51cb3",
   "metadata": {},
   "source": [
    "### Problem - 2: Array Manipulation: Numerical Ranges and Array indexing:\r\n",
    "Complete the following tasks:\r\n",
    "1. Create an array with values ranging from 10 to 49. {Hint:np.arrange()}.\r\n",
    "2. Create a 3X3 matrix with values ranging from 0 to 8.\r\n",
    "{Hint:look for np.reshape()}\r\n",
    "3. Create a 3X3 identity matrix.{Hint:np.eye()}\r\n",
    "4. Create a random array of size 30 and find the mean of the array.\r\n",
    "{Hint:check for np.random.random() and array.mean() function}\r\n",
    "5. Create a 10X10 array with random values and find the minimum and maximum values.\r\n",
    "6. Create a zero array of size 10 and replace 5th element with 1.\r\n",
    "7. Reverse an array arr = [1,2,0,0,4,0].\r\n",
    "8. Create a 2d array with 1 on border and 0 inside.\r\n",
    "9. Create a 8X8 matrix and fill it with a checkerboard pattern."
   ]
  },
  {
   "cell_type": "code",
   "execution_count": 118,
   "id": "d1e25291-9cf0-4b80-85fb-bb71224752d7",
   "metadata": {},
   "outputs": [
    {
     "data": {
      "text/plain": [
       "array([10, 11, 12, 13, 14, 15, 16, 17, 18, 19, 20, 21, 22, 23, 24, 25, 26,\n",
       "       27, 28, 29, 30, 31, 32, 33, 34, 35, 36, 37, 38, 39, 40, 41, 42, 43,\n",
       "       44, 45, 46, 47, 48])"
      ]
     },
     "execution_count": 118,
     "metadata": {},
     "output_type": "execute_result"
    }
   ],
   "source": [
    "array = np.arange(10, 49)\n",
    "array"
   ]
  },
  {
   "cell_type": "code",
   "execution_count": 119,
   "id": "119ea9e7-1ad3-4c98-bdf4-92665e564077",
   "metadata": {},
   "outputs": [
    {
     "data": {
      "text/plain": [
       "array([0, 1, 2, 3, 4, 5, 6, 7, 8])"
      ]
     },
     "execution_count": 119,
     "metadata": {},
     "output_type": "execute_result"
    }
   ],
   "source": [
    "array = np.arange(0, 9)\n",
    "np.reshape(array, (3, 3))\n",
    "array"
   ]
  },
  {
   "cell_type": "code",
   "execution_count": 120,
   "id": "f3bb6237-6ddf-473b-bcd2-a3c5411666e1",
   "metadata": {},
   "outputs": [
    {
     "data": {
      "text/plain": [
       "array([[1., 0., 0.],\n",
       "       [0., 1., 0.],\n",
       "       [0., 0., 1.]])"
      ]
     },
     "execution_count": 120,
     "metadata": {},
     "output_type": "execute_result"
    }
   ],
   "source": [
    "array = np.eye(3)\n",
    "array"
   ]
  },
  {
   "cell_type": "code",
   "execution_count": 121,
   "id": "86be8fa9-9d18-4039-9fa1-7fdd3216394c",
   "metadata": {},
   "outputs": [
    {
     "data": {
      "text/plain": [
       "0.5521012385949454"
      ]
     },
     "execution_count": 121,
     "metadata": {},
     "output_type": "execute_result"
    }
   ],
   "source": [
    "array = np.random.random((5, 6))\n",
    "array.mean()"
   ]
  },
  {
   "cell_type": "code",
   "execution_count": 122,
   "id": "c0a51fac-6b0d-4411-aaef-c576f2c4d747",
   "metadata": {},
   "outputs": [
    {
     "name": "stdout",
     "output_type": "stream",
     "text": [
      "0.018837365068876455 0.9970188008519674\n"
     ]
    }
   ],
   "source": [
    "array = np.random.random((10, 10))\n",
    "print(array.min(), array.max())"
   ]
  },
  {
   "cell_type": "code",
   "execution_count": 123,
   "id": "8989b4a7-68cc-493e-b2e8-bea82ed43cc5",
   "metadata": {},
   "outputs": [
    {
     "data": {
      "text/plain": [
       "array([[0., 0., 0., 0., 1., 0., 0., 0., 0., 0.]])"
      ]
     },
     "execution_count": 123,
     "metadata": {},
     "output_type": "execute_result"
    }
   ],
   "source": [
    "array = np.zeros((1, 10))\n",
    "array[0][4] = 1\n",
    "array"
   ]
  },
  {
   "cell_type": "code",
   "execution_count": 124,
   "id": "3a40450e-6bd2-4ddc-84a4-02c7a80ecc41",
   "metadata": {},
   "outputs": [
    {
     "data": {
      "text/plain": [
       "array([0, 4, 0, 0, 2, 1])"
      ]
     },
     "execution_count": 124,
     "metadata": {},
     "output_type": "execute_result"
    }
   ],
   "source": [
    "arr = np.array([1,2,0,0,4,0])\n",
    "array = arr[::-1]\n",
    "array"
   ]
  },
  {
   "cell_type": "code",
   "execution_count": 125,
   "id": "05988e13-cbe6-4bc4-968d-df9bcb8bdf05",
   "metadata": {},
   "outputs": [
    {
     "data": {
      "text/plain": [
       "array([[1., 1., 1., 1., 1.],\n",
       "       [1., 0., 0., 0., 1.],\n",
       "       [1., 0., 0., 0., 1.],\n",
       "       [1., 0., 0., 0., 1.],\n",
       "       [1., 1., 1., 1., 1.]])"
      ]
     },
     "execution_count": 125,
     "metadata": {},
     "output_type": "execute_result"
    }
   ],
   "source": [
    "size = 5\n",
    "\n",
    "array = np.ones((size, size))\n",
    "array[1:-1, 1:-1] = 0\n",
    "array"
   ]
  },
  {
   "cell_type": "code",
   "execution_count": 126,
   "id": "356d2d4b-9b1b-4f4d-9d74-70987068180e",
   "metadata": {},
   "outputs": [
    {
     "data": {
      "text/plain": [
       "array([[0., 1., 0., 1., 0., 1., 0., 1.],\n",
       "       [1., 0., 1., 0., 1., 0., 1., 0.],\n",
       "       [0., 1., 0., 1., 0., 1., 0., 1.],\n",
       "       [1., 0., 1., 0., 1., 0., 1., 0.],\n",
       "       [0., 1., 0., 1., 0., 1., 0., 1.],\n",
       "       [1., 0., 1., 0., 1., 0., 1., 0.],\n",
       "       [0., 1., 0., 1., 0., 1., 0., 1.],\n",
       "       [1., 0., 1., 0., 1., 0., 1., 0.]])"
      ]
     },
     "execution_count": 126,
     "metadata": {},
     "output_type": "execute_result"
    }
   ],
   "source": [
    "size = 8\n",
    "\n",
    "array = np.zeros((size, size))\n",
    "array[1::2, ::2] = 1\n",
    "array[::2, 1::2] = 1\n",
    "array"
   ]
  },
  {
   "cell_type": "markdown",
   "id": "c3b1eb9d-8bf3-4f8d-be0b-5f7c4b4f7481",
   "metadata": {},
   "source": [
    "### Problem - 3: Array Operations:\r\n",
    "For the following arrays:\r\n",
    "x = np.array([[1,2],[3,5]]) and y = np.array([[5,6],[7,8]]);\r\n",
    "v = np.array([9,10]) and w = np.array([11,12]);\r\n",
    "Complete all the task using numpy:\r\n",
    "1. Add the two array.\r\n",
    "2. Subtract the two array.\r\n",
    "3. Multiply the array with any integers of your choice.\r\n",
    "4. Find the square of each element of the array.\r\n",
    "5. Find the dot product between: v(and)w ; x(and)v ; x(and)y.\r\n",
    "6. Concatenate x(and)y along row and Concatenate v(and)w along column.\r\n",
    "{Hint:try np.concatenate() or np.vstack() functions.\r\n",
    "7. Concatenate x(and)v; if you get an error, observe and explain why did you get the error?"
   ]
  },
  {
   "cell_type": "code",
   "execution_count": 127,
   "id": "1b5c729a-399e-4412-b969-97696edc5c52",
   "metadata": {},
   "outputs": [],
   "source": [
    "x = np.array([[1, 2], [3, 5]])\n",
    "y = np.array([[5, 6], [7, 8]])\n",
    "v = np.array([9, 10])\n",
    "w = np.array([11, 12])"
   ]
  },
  {
   "cell_type": "code",
   "execution_count": 128,
   "id": "43b6ddae-fe3a-4474-a797-61675023a931",
   "metadata": {},
   "outputs": [
    {
     "data": {
      "text/plain": [
       "array([[ 6,  8],\n",
       "       [10, 13]])"
      ]
     },
     "execution_count": 128,
     "metadata": {},
     "output_type": "execute_result"
    }
   ],
   "source": [
    "x + y"
   ]
  },
  {
   "cell_type": "code",
   "execution_count": 129,
   "id": "f826b05c-7a19-4212-b920-c6573f8e1753",
   "metadata": {},
   "outputs": [
    {
     "data": {
      "text/plain": [
       "array([[-4, -4],\n",
       "       [-4, -3]])"
      ]
     },
     "execution_count": 129,
     "metadata": {},
     "output_type": "execute_result"
    }
   ],
   "source": [
    "x - y"
   ]
  },
  {
   "cell_type": "code",
   "execution_count": 130,
   "id": "aca5260c-b035-4584-93af-a71f677b6755",
   "metadata": {},
   "outputs": [
    {
     "data": {
      "text/plain": [
       "array([[ 2,  4],\n",
       "       [ 6, 10]])"
      ]
     },
     "execution_count": 130,
     "metadata": {},
     "output_type": "execute_result"
    }
   ],
   "source": [
    "x * 2"
   ]
  },
  {
   "cell_type": "code",
   "execution_count": 131,
   "id": "f4380934-db6c-474d-a40c-4146e98eecbc",
   "metadata": {},
   "outputs": [
    {
     "data": {
      "text/plain": [
       "219"
      ]
     },
     "execution_count": 131,
     "metadata": {},
     "output_type": "execute_result"
    }
   ],
   "source": [
    "v.dot(w)"
   ]
  },
  {
   "cell_type": "code",
   "execution_count": 132,
   "id": "bcc66869-ab8e-4969-a875-e258106864de",
   "metadata": {},
   "outputs": [
    {
     "data": {
      "text/plain": [
       "array([29, 77])"
      ]
     },
     "execution_count": 132,
     "metadata": {},
     "output_type": "execute_result"
    }
   ],
   "source": [
    "x.dot(v)"
   ]
  },
  {
   "cell_type": "code",
   "execution_count": 133,
   "id": "643669f1-9129-4ae9-b848-cf5a23d3aedb",
   "metadata": {},
   "outputs": [
    {
     "data": {
      "text/plain": [
       "array([[19, 22],\n",
       "       [50, 58]])"
      ]
     },
     "execution_count": 133,
     "metadata": {},
     "output_type": "execute_result"
    }
   ],
   "source": [
    "x.dot(y)"
   ]
  },
  {
   "cell_type": "code",
   "execution_count": 134,
   "id": "4a57485e-b76e-474c-8d94-6cb3e5baa978",
   "metadata": {},
   "outputs": [
    {
     "ename": "ValueError",
     "evalue": "all the input arrays must have same number of dimensions, but the array at index 0 has 2 dimension(s) and the array at index 1 has 1 dimension(s)",
     "output_type": "error",
     "traceback": [
      "\u001b[1;31m---------------------------------------------------------------------------\u001b[0m",
      "\u001b[1;31mValueError\u001b[0m                                Traceback (most recent call last)",
      "Cell \u001b[1;32mIn[134], line 1\u001b[0m\n\u001b[1;32m----> 1\u001b[0m \u001b[43mnp\u001b[49m\u001b[38;5;241;43m.\u001b[39;49m\u001b[43mconcatenate\u001b[49m\u001b[43m(\u001b[49m\u001b[43m(\u001b[49m\u001b[43mx\u001b[49m\u001b[43m,\u001b[49m\u001b[43m \u001b[49m\u001b[43mv\u001b[49m\u001b[43m)\u001b[49m\u001b[43m)\u001b[49m\n",
      "\u001b[1;31mValueError\u001b[0m: all the input arrays must have same number of dimensions, but the array at index 0 has 2 dimension(s) and the array at index 1 has 1 dimension(s)"
     ]
    }
   ],
   "source": [
    "np.concatenate((x, v))"
   ]
  },
  {
   "cell_type": "markdown",
   "id": "649360df-4f13-4aa2-9a1c-678c4d4c3330",
   "metadata": {},
   "source": [
    "### Problem - 4: Matrix Operations:\r\n",
    "• For the following arrays:\r\n",
    "A = np.array([[3,4],[7,8]]) and B = np.array([[5,3],[2,1]]);\r\n",
    "Prove following with Numpy:\r\n",
    "1. Prove A.A−1 = I.\r\n",
    "2. Prove AB ̸= BA.\r\n",
    "3. Prove (AB)\r\n",
    "\r\n",
    "T = BTAT\r\n",
    ".\r\n",
    "\r\n",
    "• Solve the following system of Linear equation using Inverse Methods.\r\n",
    "\r\n",
    "2x − 3y + z = −1\r\n",
    "x − y + 2z = −3\r\n",
    "3x + y − z = 9\r\n",
    "\r\n",
    "{Hint: First use Numpy array to represent the equation in Matrix form. Then Solve for: AX = B}\r\n",
    "\r\n",
    "• Now: solve the above equation using np.linalg.inv function.{Explore more about ”linalg” func-\r\n",
    "tion of Numpy}\r\n",
    "\r\n",
    "47"
   ]
  },
  {
   "cell_type": "code",
   "execution_count": 135,
   "id": "7d44472d-c4f7-4a39-b89e-d6cc673112d6",
   "metadata": {},
   "outputs": [
    {
     "data": {
      "text/plain": [
       "array([[1.0000000e+00, 4.4408921e-16],\n",
       "       [0.0000000e+00, 1.0000000e+00]])"
      ]
     },
     "execution_count": 135,
     "metadata": {},
     "output_type": "execute_result"
    }
   ],
   "source": [
    "A = np.array([[3, 4], [7, 8]])\n",
    "B = np.array([[5, 3], [2, 1]])\n",
    "\n",
    "A1 = np.linalg.inv(A)\n",
    "A.dot(A1)"
   ]
  },
  {
   "cell_type": "code",
   "execution_count": 136,
   "id": "cfa4daed-412d-48d0-8e79-a2bf6d56bc01",
   "metadata": {},
   "outputs": [
    {
     "data": {
      "text/plain": [
       "array([[23, 13],\n",
       "       [51, 29]])"
      ]
     },
     "execution_count": 136,
     "metadata": {},
     "output_type": "execute_result"
    }
   ],
   "source": [
    "np.dot(A, B)"
   ]
  },
  {
   "cell_type": "code",
   "execution_count": 137,
   "id": "2d112cbb-0690-49ae-87c5-f4ad21c132ac",
   "metadata": {},
   "outputs": [
    {
     "data": {
      "text/plain": [
       "array([[36, 44],\n",
       "       [13, 16]])"
      ]
     },
     "execution_count": 137,
     "metadata": {},
     "output_type": "execute_result"
    }
   ],
   "source": [
    "np.dot(B, A)"
   ]
  },
  {
   "cell_type": "code",
   "execution_count": 138,
   "id": "7375069d-61ee-4d3a-a31b-07c6b08a4177",
   "metadata": {},
   "outputs": [
    {
     "data": {
      "text/plain": [
       "array([[23, 51],\n",
       "       [13, 29]])"
      ]
     },
     "execution_count": 138,
     "metadata": {},
     "output_type": "execute_result"
    }
   ],
   "source": [
    "np.transpose(np.dot(A, B))"
   ]
  },
  {
   "cell_type": "code",
   "execution_count": 139,
   "id": "ba69b5f6-0a08-40f8-b959-c22961333f27",
   "metadata": {},
   "outputs": [
    {
     "data": {
      "text/plain": [
       "array([[23, 51],\n",
       "       [13, 29]])"
      ]
     },
     "execution_count": 139,
     "metadata": {},
     "output_type": "execute_result"
    }
   ],
   "source": [
    "np.dot(np.transpose(B), np.transpose(A))"
   ]
  },
  {
   "cell_type": "code",
   "execution_count": 140,
   "id": "f1eba5a8-a273-4e33-90c1-a7fa2da8347a",
   "metadata": {},
   "outputs": [
    {
     "data": {
      "text/plain": [
       "(array([[ 2, -3,  1],\n",
       "        [ 1, -1,  2],\n",
       "        [ 3,  1, -1]]),\n",
       " array([-1, -3,  9]))"
      ]
     },
     "execution_count": 140,
     "metadata": {},
     "output_type": "execute_result"
    }
   ],
   "source": [
    "A = np.array([[2, -3, 1], [1, -1, 2], [3, 1, -1]])\n",
    "B = np.array([-1, -3, 9])\n",
    "A, B"
   ]
  },
  {
   "cell_type": "code",
   "execution_count": 141,
   "id": "9a668981-948a-4ac0-928b-4daa8ad9b1b2",
   "metadata": {},
   "outputs": [
    {
     "data": {
      "text/plain": [
       "array([ 2.,  1., -2.])"
      ]
     },
     "execution_count": 141,
     "metadata": {},
     "output_type": "execute_result"
    }
   ],
   "source": [
    "X = np.linalg.inv(A).dot(B)\n",
    "X"
   ]
  },
  {
   "cell_type": "markdown",
   "id": "20acab15-cba2-4015-a5c1-b7597ce9028f",
   "metadata": {},
   "source": [
    "## 10.2 Experiment: How Fast is Numpy?\r\n",
    "In this exercise, you will compare the performance and implementation of operations using plain Python\r\n",
    "lists (arrays) and NumPy arrays. Follow the instructions:"
   ]
  },
  {
   "cell_type": "markdown",
   "id": "6ed8abb7-4794-43d1-a901-a78c4e0936ed",
   "metadata": {},
   "source": [
    "### 1. Element-wise Addition:\r\n",
    "• Using Python Lists, perform element-wise addition of two lists of size 1, 000, 000. Measure\r\n",
    "and Print the time taken for this operation.\r\n",
    "• Using Numpy Arrays, Repeat the calculation and measure and print the time taken for\r\n",
    "this operation."
   ]
  },
  {
   "cell_type": "code",
   "execution_count": 142,
   "id": "66b15216-3c2b-4a9c-bf07-a6023eed0995",
   "metadata": {},
   "outputs": [
    {
     "name": "stdout",
     "output_type": "stream",
     "text": [
      "Python time: 0.876798152923584\n",
      "Numpy time: 0.003999471664428711\n"
     ]
    }
   ],
   "source": [
    "import time\n",
    "\n",
    "\n",
    "def python(array1, array2):\n",
    "    new_array = []\n",
    "    for i in range(len(array1)):\n",
    "        for j in range(len(array1[i])):\n",
    "            new_array.append([array1[i][j] + array2[i][j]])\n",
    "    return new_array\n",
    "\n",
    "\n",
    "def numpy(array1, array2):\n",
    "    new_array = np.zeros_like(array1)\n",
    "    new_array = array1 + array2\n",
    "    return new_array\n",
    "\n",
    "\n",
    "array1 = np.random.random((5000, 200))\n",
    "array2 = np.random.random((5000, 200))\n",
    "\n",
    "lst1 = array1.tolist()\n",
    "lst2 = array2.tolist()\n",
    "\n",
    "start = time.time()\n",
    "python(lst1, lst2)\n",
    "end = time.time()\n",
    "diff_python = end - start\n",
    "\n",
    "start = time.time()\n",
    "numpy(array1, array2)\n",
    "end = time.time()\n",
    "diff_numpy = end - start\n",
    "\n",
    "print(f\"Python time: {diff_python}\")\n",
    "print(f\"Numpy time: {diff_numpy}\")"
   ]
  },
  {
   "cell_type": "markdown",
   "id": "36510266-c6f3-40e2-a87f-f94375527396",
   "metadata": {},
   "source": [
    "### 2. Element-wise Multiplication\n",
    "• Using Python Lists, perform element-wise multiplication of two lists of size 1, 000, 000.\n",
    "Measure and Print the time taken for this operation.\n",
    "• Using Numpy Arrays, Repeat the calculation and measure and print the time taken for\n",
    "this operation."
   ]
  },
  {
   "cell_type": "code",
   "execution_count": 143,
   "id": "a80fceda-2876-4bed-8ecf-0a88376810b0",
   "metadata": {},
   "outputs": [
    {
     "name": "stdout",
     "output_type": "stream",
     "text": [
      "Python time: 0.7656259536743164\n",
      "Numpy time: 0.004536151885986328\n"
     ]
    }
   ],
   "source": [
    "import time\n",
    "\n",
    "\n",
    "def python(array1, array2):\n",
    "    new_array = []\n",
    "    for i in range(len(array1)):\n",
    "        for j in range(len(array1[i])):\n",
    "            new_array.append([array1[i][j] * array2[i][j]])\n",
    "    return new_array\n",
    "\n",
    "\n",
    "def numpy(array1, array2):\n",
    "    new_array = np.zeros_like(array1)\n",
    "    new_array = array1 * array2\n",
    "    return new_array\n",
    "\n",
    "\n",
    "array1 = np.random.random((5000, 200))\n",
    "array2 = np.random.random((5000, 200))\n",
    "\n",
    "lst1 = array1.tolist()\n",
    "lst2 = array2.tolist()\n",
    "\n",
    "start = time.time()\n",
    "python(lst1, lst2)\n",
    "end = time.time()\n",
    "diff_python = end - start\n",
    "\n",
    "start = time.time()\n",
    "numpy(array1, array2)\n",
    "end = time.time()\n",
    "diff_numpy = end - start\n",
    "\n",
    "print(f\"Python time: {diff_python}\")\n",
    "print(f\"Numpy time: {diff_numpy}\")"
   ]
  },
  {
   "cell_type": "markdown",
   "id": "d0eebb0a-97a2-4736-b19c-05e6ea5530aa",
   "metadata": {},
   "source": [
    "### 3. Dot Product\n",
    "• Using Python Lists, compute the dot product of two lists of size 1, 000, 000. Measure and\n",
    "Print the time taken for this operation.\n",
    "• Using Numpy Arrays, Repeat the calculation and measure and print the time taken for\n",
    "this operation."
   ]
  },
  {
   "cell_type": "code",
   "execution_count": 144,
   "id": "4a2ac1bf-d4aa-4384-9497-f91b6b094ebf",
   "metadata": {},
   "outputs": [
    {
     "name": "stdout",
     "output_type": "stream",
     "text": [
      "Python time: 0.7847630977630615\n",
      "Numpy time: 0.004000425338745117\n"
     ]
    }
   ],
   "source": [
    "import time\n",
    "\n",
    "\n",
    "def python(array1, array2):\n",
    "    new_array = []\n",
    "    for i in range(len(array1)):\n",
    "        for j in range(len(array1[i])):\n",
    "            new_array.append([array1[i][j] * array2[i][j]])\n",
    "    return new_array\n",
    "\n",
    "\n",
    "def numpy(array1, array2):\n",
    "    new_array = np.sum(np.multiply(array1, array2))\n",
    "    return new_array\n",
    "\n",
    "\n",
    "array1 = np.random.random((5000, 200))\n",
    "array2 = np.random.random((5000, 200))\n",
    "\n",
    "lst1 = array1.tolist()\n",
    "lst2 = array2.tolist()\n",
    "\n",
    "start = time.time()\n",
    "python(lst1, lst2)\n",
    "end = time.time()\n",
    "diff_python = end - start\n",
    "\n",
    "start = time.time()\n",
    "numpy(array1, array2)\n",
    "end = time.time()\n",
    "diff_numpy = end - start\n",
    "\n",
    "print(f\"Python time: {diff_python}\")\n",
    "print(f\"Numpy time: {diff_numpy}\")"
   ]
  },
  {
   "cell_type": "markdown",
   "id": "987eabc9-efa7-437a-ada4-532691b653de",
   "metadata": {},
   "source": [
    "### 4. Matrix Multiplication\r\n",
    "\r\n",
    "• Using Python lists, perform matrix multiplication of two matrices of size 1000x1000. Mea-\r\n",
    "sure and print the time taken for this operation.\r\n",
    "\r\n",
    "• Using NumPy arrays, perform matrix multiplication of two matrices of size 1000x1000.\r\n",
    "Measure and print the time taken for this operation."
   ]
  },
  {
   "cell_type": "code",
   "execution_count": 145,
   "id": "add6823f-35c6-4d04-8738-da83eecf00ef",
   "metadata": {},
   "outputs": [
    {
     "name": "stdout",
     "output_type": "stream",
     "text": [
      "Python time: 73.57296514511108 seconds\n",
      "NumPy time: 0.02104496955871582 seconds\n"
     ]
    }
   ],
   "source": [
    "import time\n",
    "\n",
    "\n",
    "def python_matrix_mult(matrix1, matrix2):\n",
    "    result = []\n",
    "    for row in matrix1:\n",
    "        row_result = []\n",
    "        for col in zip(*matrix2):\n",
    "            sum_value = 0\n",
    "            for a, b in zip(row, col):\n",
    "                sum_value += a * b\n",
    "            row_result.append(sum_value)\n",
    "        result.append(row_result)\n",
    "    return result\n",
    "\n",
    "\n",
    "def numpy_matrix_mult(matrix1, matrix2):\n",
    "    return np.dot(matrix1, matrix2)\n",
    "\n",
    "\n",
    "matrix1 = np.random.random((1000, 1000))\n",
    "matrix2 = np.random.random((1000, 1000))\n",
    "\n",
    "lst1 = matrix1.tolist()\n",
    "lst2 = matrix2.tolist()\n",
    "\n",
    "start = time.time()\n",
    "python_matrix_mult(lst1, lst2)\n",
    "end = time.time()\n",
    "diff_python = end - start\n",
    "\n",
    "start = time.time()\n",
    "numpy_matrix_mult(matrix1, matrix2)\n",
    "end = time.time()\n",
    "diff_numpy = end - start\n",
    "\n",
    "print(f\"Python time: {diff_python} seconds\")\n",
    "print(f\"NumPy time: {diff_numpy} seconds\")"
   ]
  }
 ],
 "metadata": {
  "kernelspec": {
   "display_name": "Python 3 (ipykernel)",
   "language": "python",
   "name": "python3"
  },
  "language_info": {
   "codemirror_mode": {
    "name": "ipython",
    "version": 3
   },
   "file_extension": ".py",
   "mimetype": "text/x-python",
   "name": "python",
   "nbconvert_exporter": "python",
   "pygments_lexer": "ipython3",
   "version": "3.11.5"
  }
 },
 "nbformat": 4,
 "nbformat_minor": 5
}
